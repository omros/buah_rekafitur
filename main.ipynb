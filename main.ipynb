{
 "cells": [
  {
   "cell_type": "code",
   "execution_count": 1,
   "id": "5359f699",
   "metadata": {},
   "outputs": [],
   "source": [
    "import cv2\n",
    "import numpy as np\n",
    "import os\n",
    "import glob\n",
    "import pandas as pd\n",
    "import matplotlib.pyplot as plt\n",
    "from skimage.feature import hog\n",
    "from skimage import exposure\n",
    "import ipywidgets as widgets\n",
    "from IPython.display import display, clear_output"
   ]
  },
  {
   "cell_type": "code",
   "execution_count": 2,
   "id": "a09c6029",
   "metadata": {},
   "outputs": [],
   "source": [
    "image_paths = glob.glob(os.path.join(\"gambar_buah\", '*', '*'))\n",
    "images = []\n",
    "for img_path in image_paths:\n",
    "    img = cv2.imread(img_path)\n",
    "    if img is not None:\n",
    "        images.append((img_path, img))"
   ]
  },
  {
   "cell_type": "code",
   "execution_count": 3,
   "id": "47f24f24",
   "metadata": {},
   "outputs": [],
   "source": [
    "def extract_rgb_histograms(images, bins=32):\n",
    "    data = []\n",
    "    for img_path, img in images:\n",
    "        img_rgb = cv2.cvtColor(img, cv2.COLOR_BGR2RGB)\n",
    "        hist_r = cv2.calcHist([img_rgb], [0], None, [bins], [0, 256]).flatten()\n",
    "        hist_g = cv2.calcHist([img_rgb], [1], None, [bins], [0, 256]).flatten()\n",
    "        hist_b = cv2.calcHist([img_rgb], [2], None, [bins], [0, 256]).flatten()\n",
    "        hist = np.concatenate([hist_r, hist_g, hist_b])\n",
    "        hist = hist / hist.sum()\n",
    "        kategori = os.path.normpath(img_path).split(os.sep)[-2]\n",
    "        nama_file = os.path.basename(img_path)\n",
    "        data.append({'kategori': kategori, 'filename': nama_file, 'histogram': hist})\n",
    "    return pd.DataFrame(data)\n",
    "\n",
    "def extract_hog_features(images, pixels_per_cell=(8, 8), cells_per_block=(2, 2), orientations=9):\n",
    "    data = []\n",
    "    for img_path, img in images:\n",
    "        gray = cv2.cvtColor(img, cv2.COLOR_BGR2GRAY)\n",
    "        hog_feat = hog(\n",
    "            gray,\n",
    "            orientations=orientations,\n",
    "            pixels_per_cell=pixels_per_cell,\n",
    "            cells_per_block=cells_per_block,\n",
    "            block_norm='L2-Hys',\n",
    "            feature_vector=True\n",
    "        )\n",
    "        kategori = os.path.normpath(img_path).split(os.sep)[-2]\n",
    "        nama_file = os.path.basename(img_path)\n",
    "        data.append({'kategori': kategori, 'filename': nama_file, 'hog_feature': hog_feat})\n",
    "    return pd.DataFrame(data)"
   ]
  },
  {
   "cell_type": "code",
   "execution_count": 4,
   "id": "442e4a4e",
   "metadata": {},
   "outputs": [
    {
     "name": "stdout",
     "output_type": "stream",
     "text": [
      "CSV fitur_histogram.csv dan fitur_hog.csv berhasil dibuat!\n"
     ]
    }
   ],
   "source": [
    "if images:\n",
    "    df_hist = extract_rgb_histograms(images)\n",
    "    df_hog = extract_hog_features(images)\n",
    "\n",
    "    df_hist_expanded = pd.DataFrame(df_hist['histogram'].to_list(), columns=[f'hist_{c}_{i}' for c in ['r','g','b'] for i in range(32)])\n",
    "    df_hist_final = pd.concat([df_hist[['kategori','filename']], df_hist_expanded], axis=1)\n",
    "    df_hist_final.to_csv(\"fitur_histogram.csv\", index=False)\n",
    "    \n",
    "    df_hog_expanded = pd.DataFrame(df_hog['hog_feature'].to_list())\n",
    "    df_hog_final = pd.concat([df_hog[['kategori','filename']], df_hog_expanded], axis=1)\n",
    "    df_hog_final.to_csv(\"fitur_hog.csv\", index=False)\n",
    "    print(\"CSV fitur_histogram.csv dan fitur_hog.csv berhasil dibuat!\")\n",
    "else:\n",
    "    print(\"Tidak ada gambar ditemukan di folder gambar_buah.\")"
   ]
  },
  {
   "cell_type": "code",
   "execution_count": 5,
   "id": "632a63e6",
   "metadata": {},
   "outputs": [
    {
     "data": {
      "application/vnd.jupyter.widget-view+json": {
       "model_id": "71d92b4ded21494bbf16751ef2df0c7e",
       "version_major": 2,
       "version_minor": 0
      },
      "text/plain": [
       "Dropdown(description='Kategori:', options=('apple', 'avocado', 'mango', 'orange', 'watermelon'), value='apple'…"
      ]
     },
     "metadata": {},
     "output_type": "display_data"
    },
    {
     "data": {
      "application/vnd.jupyter.widget-view+json": {
       "model_id": "52c750390ecd4084bade65034cff620d",
       "version_major": 2,
       "version_minor": 0
      },
      "text/plain": [
       "Output()"
      ]
     },
     "metadata": {},
     "output_type": "display_data"
    }
   ],
   "source": [
    "def get_categories(images):\n",
    "    return sorted(list(set(os.path.normpath(path).split(os.sep)[-2] for path, _ in images)))\n",
    "\n",
    "def show_sample_by_category(images):\n",
    "    categories = get_categories(images)\n",
    "    dropdown = widgets.Dropdown(options=categories, description='Kategori:')\n",
    "    output = widgets.Output()\n",
    "\n",
    "    def on_change(change):\n",
    "        if change['type'] == 'change' and change['name'] == 'value':\n",
    "            with output:\n",
    "                clear_output(wait=True)\n",
    "                \n",
    "                for img_path, img in images:\n",
    "                    kategori = os.path.normpath(img_path).split(os.sep)[-2]\n",
    "                    nama_file = os.path.basename(img_path)\n",
    "                    if kategori == change['new']:\n",
    "                       \n",
    "                        img_rgb = cv2.cvtColor(img, cv2.COLOR_BGR2RGB)\n",
    "                        plt.figure(figsize=(10,4))\n",
    "                        for i, color in enumerate(['r', 'g', 'b']):\n",
    "                            hist = cv2.calcHist([img_rgb], [i], None, [32], [0,256])\n",
    "                            plt.plot(hist, color=color)\n",
    "                        plt.title(f'RGB Histogram - {kategori}/{nama_file}')\n",
    "                        plt.xlabel('Bin')\n",
    "                        plt.ylabel('Frequency')\n",
    "                        plt.show()\n",
    "                    \n",
    "                        gray = cv2.cvtColor(img, cv2.COLOR_BGR2GRAY)\n",
    "                        hog_feat, hog_image = hog(\n",
    "                            gray, orientations=9, pixels_per_cell=(8,8), cells_per_block=(2,2),\n",
    "                            block_norm='L2-Hys', visualize=True, feature_vector=True\n",
    "                        )\n",
    "                        hog_image_rescaled = exposure.rescale_intensity(hog_image, in_range=(0, 10))\n",
    "                        plt.figure(figsize=(8,4))\n",
    "                        plt.subplot(1,2,1)\n",
    "                        plt.imshow(gray, cmap='gray')\n",
    "                        plt.title('Grayscale')\n",
    "                        plt.axis('off')\n",
    "                        plt.subplot(1,2,2)\n",
    "                        plt.imshow(hog_image_rescaled, cmap='gray')\n",
    "                        plt.title('HOG Visualization')\n",
    "                        plt.axis('off')\n",
    "                        plt.show()\n",
    "                        break\n",
    "    dropdown.observe(on_change)\n",
    "    display(dropdown, output)\n",
    "\n",
    "    with output:\n",
    "        on_change({'type':'change','name':'value','new':dropdown.value})\n",
    "\n",
    "if images:\n",
    "    show_sample_by_category(images)"
   ]
  }
 ],
 "metadata": {
  "kernelspec": {
   "display_name": "Python 3",
   "language": "python",
   "name": "python3"
  },
  "language_info": {
   "codemirror_mode": {
    "name": "ipython",
    "version": 3
   },
   "file_extension": ".py",
   "mimetype": "text/x-python",
   "name": "python",
   "nbconvert_exporter": "python",
   "pygments_lexer": "ipython3",
   "version": "3.13.5"
  }
 },
 "nbformat": 4,
 "nbformat_minor": 5
}
